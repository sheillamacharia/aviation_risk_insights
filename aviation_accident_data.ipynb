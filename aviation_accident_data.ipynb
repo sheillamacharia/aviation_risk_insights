{
 "cells": [
  {
   "cell_type": "markdown",
   "id": "16b15b69",
   "metadata": {},
   "source": [
    "## **Business Understanding**"
   ]
  },
  {
   "cell_type": "markdown",
   "id": "7021146d",
   "metadata": {},
   "source": [
    "Air travel safety is a critical concern for both industry stakeholders and the general public. While aviation is among the safetest modes of transport, accidents still occur.  Aircraft manufacturers, airlines, and regulators must therefore evaluate accident patterns to identify risks and improve safety standards."
   ]
  },
  {
   "cell_type": "markdown",
   "id": "27d851c2",
   "metadata": {},
   "source": [
    "**Real World Problem**\n",
    "\n",
    "A new aviation safety advisory group is seeking data-driven recommendations on which aircraft models and manufacturers demonstrate the lowest safety risks. Their goal is to advise flight schools, private operators, and regulators on selecting aircraft types that minimize accident exposure while maintaining operational efficiency."
   ]
  },
  {
   "cell_type": "markdown",
   "id": "5d03bede",
   "metadata": {},
   "source": [
    "**Stakeholders**\n",
    "\n",
    "- **Flight schools**: need to choose training aircraft that balance affordability and safety for students.  \n",
    "- **Private aircraft owners**: want to make informed decisions when purchasing or operating aircraft.  \n",
    "- **Regulatory bodies**: require evidence-based insights to guide safety recommendations and certification policies.  \n",
    "- **Insurance companies**: benefit from understanding which aircraft types carry lower or higher risk.  "
   ]
  },
  {
   "cell_type": "markdown",
   "id": "39112bb8",
   "metadata": {},
   "source": [
    "**Business Value** \n",
    " \n",
    "By analyzing accident data, this project will help stakeholders identify:  \n",
    "1. Which aircraft models and manufacturers have lower accident rates.  \n",
    "2. How accident severity differs across aircraft types.  \n",
    "3. What operational factors (e.g., time of day, weather, number of engines) contribute to accident risk.  "
   ]
  },
  {
   "cell_type": "markdown",
   "id": "820fc710",
   "metadata": {},
   "source": [
    "**Guiding Business Questions**  \n",
    "\n",
    "1. Which aircraft manufacturers and models have the lowest accident rates in the last 10–20 years?  \n",
    "2. How severe are accidents associated with different aircraft types (fatal vs. non-fatal)?  \n",
    "3. What actionable recommendations can be made about which aircraft types are best suited for minimizing safety risks?  \n",
    "\n",
    "The findings will directly inform safety-focused decision-making in the aviation sector, with practical implications for reducing accident risks and improving long-term trust in air travel."
   ]
  },
  {
   "cell_type": "markdown",
   "id": "7cc8e7fa",
   "metadata": {},
   "source": [
    "## **Data Understanding**"
   ]
  },
  {
   "cell_type": "markdown",
   "id": "62a77278",
   "metadata": {},
   "source": [
    " We explore the dataset to understand its structure, key variables, and potential issues (missing values, duplicates). This helps us assess whether the dataset is suitable for answering our business questions about aviation safety.\n",
    "\n",
    "This data set provides a record of aircraft accidents that occurred between **1919 - 2023**.\n",
    "\n",
    "\n",
    "The dataset contains **23,967 rows** and **9 columns**. Each row represents an aviation accident/incident report. The columns provide details about the accident. \n",
    "\n",
    "**Columns Overview**\n",
    "- Date – when the accident/incident occurred\n",
    "- Location – where it occurred\n",
    "- Country – country of occurrence\n",
    "- Type – aircraft type involved\n",
    "- Registration – aircraft registration number\n",
    "- Operator – organization/airline operating the aircraft\n",
    "- Aboard/Fatalities – number of people aboard and number of fatalities\n",
    "- Cate (Accident Category) – classification of the occurrence\n",
    "- Year – extracted year of occurrencE\n",
    "\n",
    "The accident categories are :\n",
    "- A - Accident\n",
    "- I - Incident\n",
    "- H - Hijacking\n",
    "- C - Criminal occurrence\n",
    "- O - Other occurrence\n",
    "- U - type of occurence unknown\n",
    "- 1 - hull-loss\n",
    "- 2 - repairable damage\n",
    "\n",
    "**Initial Observations**\n",
    "\n",
    "- The dataset spans over a century of aviation history (1919–2023), giving a rich view of trends over time.\n",
    "- The Cate column is essential for distinguishing between accidents, incidents, and other occurrences.\n",
    "- The Fatalities variable will allow us to evaluate severity and safety across different dimensions (aircraft type, operator, country).\n",
    "- Some columns (e.g., registration) may not be directly useful for safety insights and could be dropped later."
   ]
  },
  {
   "cell_type": "code",
   "execution_count": 1,
   "id": "cef9f159",
   "metadata": {},
   "outputs": [],
   "source": [
    "# Import libraries\n",
    "import pandas as pd\n",
    "import numpy as np\n",
    "import matplotlib.pyplot as plt\n",
    "import seaborn as sns\n",
    "\n",
    "%matplotlib inline"
   ]
  },
  {
   "cell_type": "code",
   "execution_count": 2,
   "id": "c2b24351",
   "metadata": {},
   "outputs": [
    {
     "data": {
      "text/html": [
       "<div>\n",
       "<style scoped>\n",
       "    .dataframe tbody tr th:only-of-type {\n",
       "        vertical-align: middle;\n",
       "    }\n",
       "\n",
       "    .dataframe tbody tr th {\n",
       "        vertical-align: top;\n",
       "    }\n",
       "\n",
       "    .dataframe thead th {\n",
       "        text-align: right;\n",
       "    }\n",
       "</style>\n",
       "<table border=\"1\" class=\"dataframe\">\n",
       "  <thead>\n",
       "    <tr style=\"text-align: right;\">\n",
       "      <th></th>\n",
       "      <th>date</th>\n",
       "      <th>type</th>\n",
       "      <th>registration</th>\n",
       "      <th>operator</th>\n",
       "      <th>fatalities</th>\n",
       "      <th>location</th>\n",
       "      <th>country</th>\n",
       "      <th>cat</th>\n",
       "      <th>year</th>\n",
       "    </tr>\n",
       "  </thead>\n",
       "  <tbody>\n",
       "    <tr>\n",
       "      <th>0</th>\n",
       "      <td>date unk.</td>\n",
       "      <td>Antonov An-12B</td>\n",
       "      <td>T-1206</td>\n",
       "      <td>Indonesian AF</td>\n",
       "      <td>NaN</td>\n",
       "      <td>NaN</td>\n",
       "      <td>Unknown country</td>\n",
       "      <td>U1</td>\n",
       "      <td>unknown</td>\n",
       "    </tr>\n",
       "    <tr>\n",
       "      <th>1</th>\n",
       "      <td>date unk.</td>\n",
       "      <td>Antonov An-12B</td>\n",
       "      <td>T-1204</td>\n",
       "      <td>Indonesian AF</td>\n",
       "      <td>NaN</td>\n",
       "      <td>NaN</td>\n",
       "      <td>Unknown country</td>\n",
       "      <td>U1</td>\n",
       "      <td>unknown</td>\n",
       "    </tr>\n",
       "    <tr>\n",
       "      <th>2</th>\n",
       "      <td>date unk.</td>\n",
       "      <td>Antonov An-12B</td>\n",
       "      <td>T-1201</td>\n",
       "      <td>Indonesian AF</td>\n",
       "      <td>NaN</td>\n",
       "      <td>NaN</td>\n",
       "      <td>Unknown country</td>\n",
       "      <td>U1</td>\n",
       "      <td>unknown</td>\n",
       "    </tr>\n",
       "    <tr>\n",
       "      <th>3</th>\n",
       "      <td>date unk.</td>\n",
       "      <td>Antonov An-12BK</td>\n",
       "      <td>NaN</td>\n",
       "      <td>Soviet AF</td>\n",
       "      <td>NaN</td>\n",
       "      <td>Tiksi Airport (IKS)</td>\n",
       "      <td>Russia</td>\n",
       "      <td>A1</td>\n",
       "      <td>unknown</td>\n",
       "    </tr>\n",
       "    <tr>\n",
       "      <th>4</th>\n",
       "      <td>date unk.</td>\n",
       "      <td>Antonov An-12BP</td>\n",
       "      <td>CCCP-11815</td>\n",
       "      <td>Soviet AF</td>\n",
       "      <td>0</td>\n",
       "      <td>Massawa Airport ...</td>\n",
       "      <td>Eritrea</td>\n",
       "      <td>A1</td>\n",
       "      <td>unknown</td>\n",
       "    </tr>\n",
       "    <tr>\n",
       "      <th>5</th>\n",
       "      <td>date unk.</td>\n",
       "      <td>Antonov An-12BP</td>\n",
       "      <td>CCCP-12172</td>\n",
       "      <td>Soviet AF</td>\n",
       "      <td>NaN</td>\n",
       "      <td>NaN</td>\n",
       "      <td>Russia</td>\n",
       "      <td>U1</td>\n",
       "      <td>unknown</td>\n",
       "    </tr>\n",
       "    <tr>\n",
       "      <th>6</th>\n",
       "      <td>date unk.</td>\n",
       "      <td>Antonov An-2</td>\n",
       "      <td>CCCP-N574</td>\n",
       "      <td>GUSMP, Directorate of Polar Aviation</td>\n",
       "      <td>NaN</td>\n",
       "      <td>unknown</td>\n",
       "      <td>Russia</td>\n",
       "      <td>A1</td>\n",
       "      <td>unknown</td>\n",
       "    </tr>\n",
       "    <tr>\n",
       "      <th>7</th>\n",
       "      <td>date unk.</td>\n",
       "      <td>Antonov An-2</td>\n",
       "      <td>CCCP-01216</td>\n",
       "      <td>Aeroflot</td>\n",
       "      <td>0</td>\n",
       "      <td>Chita region</td>\n",
       "      <td>Russia</td>\n",
       "      <td>A2</td>\n",
       "      <td>unknown</td>\n",
       "    </tr>\n",
       "    <tr>\n",
       "      <th>8</th>\n",
       "      <td>date unk.</td>\n",
       "      <td>Antonov An-24B</td>\n",
       "      <td>RA-47794</td>\n",
       "      <td>Russian AF</td>\n",
       "      <td>0</td>\n",
       "      <td>NaN</td>\n",
       "      <td>Russia</td>\n",
       "      <td>A1</td>\n",
       "      <td>unknown</td>\n",
       "    </tr>\n",
       "    <tr>\n",
       "      <th>9</th>\n",
       "      <td>date unk.</td>\n",
       "      <td>Antonov An-26</td>\n",
       "      <td>01 red</td>\n",
       "      <td>Soviet AF</td>\n",
       "      <td>0</td>\n",
       "      <td>Orenburg Air Base</td>\n",
       "      <td>Russia</td>\n",
       "      <td>O1</td>\n",
       "      <td>unknown</td>\n",
       "    </tr>\n",
       "  </tbody>\n",
       "</table>\n",
       "</div>"
      ],
      "text/plain": [
       "        date             type registration  \\\n",
       "0  date unk.   Antonov An-12B       T-1206   \n",
       "1  date unk.   Antonov An-12B       T-1204   \n",
       "2  date unk.   Antonov An-12B       T-1201   \n",
       "3  date unk.  Antonov An-12BK          NaN   \n",
       "4  date unk.  Antonov An-12BP   CCCP-11815   \n",
       "5  date unk.  Antonov An-12BP   CCCP-12172   \n",
       "6  date unk.     Antonov An-2    CCCP-N574   \n",
       "7  date unk.     Antonov An-2   CCCP-01216   \n",
       "8  date unk.   Antonov An-24B     RA-47794   \n",
       "9  date unk.    Antonov An-26       01 red   \n",
       "\n",
       "                               operator fatalities             location  \\\n",
       "0                         Indonesian AF        NaN                  NaN   \n",
       "1                         Indonesian AF        NaN                  NaN   \n",
       "2                         Indonesian AF        NaN                  NaN   \n",
       "3                             Soviet AF        NaN  Tiksi Airport (IKS)   \n",
       "4                             Soviet AF          0  Massawa Airport ...   \n",
       "5                             Soviet AF        NaN                  NaN   \n",
       "6  GUSMP, Directorate of Polar Aviation        NaN              unknown   \n",
       "7                              Aeroflot          0         Chita region   \n",
       "8                            Russian AF          0                  NaN   \n",
       "9                             Soviet AF          0    Orenburg Air Base   \n",
       "\n",
       "           country cat     year  \n",
       "0  Unknown country  U1  unknown  \n",
       "1  Unknown country  U1  unknown  \n",
       "2  Unknown country  U1  unknown  \n",
       "3           Russia  A1  unknown  \n",
       "4          Eritrea  A1  unknown  \n",
       "5           Russia  U1  unknown  \n",
       "6           Russia  A1  unknown  \n",
       "7           Russia  A2  unknown  \n",
       "8           Russia  A1  unknown  \n",
       "9           Russia  O1  unknown  "
      ]
     },
     "execution_count": 2,
     "metadata": {},
     "output_type": "execute_result"
    }
   ],
   "source": [
    "df_accidents = pd.read_csv('./data/aviation-accident-data-2023-05-16.csv')\n",
    "# read first 10 rows\n",
    "df_accidents.head(10)"
   ]
  },
  {
   "cell_type": "code",
   "execution_count": 3,
   "id": "99be268f",
   "metadata": {},
   "outputs": [
    {
     "data": {
      "text/plain": [
       "(23967, 9)"
      ]
     },
     "execution_count": 3,
     "metadata": {},
     "output_type": "execute_result"
    }
   ],
   "source": [
    "# shape of dataset\n",
    "df_accidents.shape"
   ]
  },
  {
   "cell_type": "code",
   "execution_count": 4,
   "id": "7266cc89",
   "metadata": {},
   "outputs": [
    {
     "name": "stdout",
     "output_type": "stream",
     "text": [
      "<class 'pandas.core.frame.DataFrame'>\n",
      "RangeIndex: 23967 entries, 0 to 23966\n",
      "Data columns (total 9 columns):\n",
      " #   Column        Non-Null Count  Dtype \n",
      "---  ------        --------------  ----- \n",
      " 0   date          23967 non-null  object\n",
      " 1   type          23967 non-null  object\n",
      " 2   registration  22419 non-null  object\n",
      " 3   operator      23963 non-null  object\n",
      " 4   fatalities    20029 non-null  object\n",
      " 5   location      23019 non-null  object\n",
      " 6   country       23967 non-null  object\n",
      " 7   cat           23967 non-null  object\n",
      " 8   year          23967 non-null  object\n",
      "dtypes: object(9)\n",
      "memory usage: 1.6+ MB\n"
     ]
    }
   ],
   "source": [
    "# overview of the dataset\n",
    "df_accidents.info()"
   ]
  },
  {
   "cell_type": "markdown",
   "id": "24a1db33",
   "metadata": {},
   "source": [
    "From the overview of the datasets we see all columns are of the object data type. We also see that some columns like Registration, Operator, Fatalities, and Location have missing values since the non-null count does not add up to the total number of rows **23,967**"
   ]
  },
  {
   "cell_type": "markdown",
   "id": "67b4156a",
   "metadata": {},
   "source": [
    "## **Data Preparation**\n",
    "\n",
    "In this section we clean the data by handling missing values, check for duplicates,and removing irrelevant columns.\n",
    "We also need to change the Fatalities column from an object data type to an integer data type."
   ]
  },
  {
   "cell_type": "code",
   "execution_count": 5,
   "id": "02f32111",
   "metadata": {},
   "outputs": [
    {
     "data": {
      "text/plain": [
       "False    23852\n",
       "True       115\n",
       "dtype: int64"
      ]
     },
     "execution_count": 5,
     "metadata": {},
     "output_type": "execute_result"
    }
   ],
   "source": [
    "# Checking for duplicates\n",
    "df_accidents.duplicated().value_counts()"
   ]
  },
  {
   "cell_type": "markdown",
   "id": "7c018086",
   "metadata": {},
   "source": [
    "    From the code above we see that the data set has 115 duplicated items that we need to remove."
   ]
  },
  {
   "cell_type": "code",
   "execution_count": 6,
   "id": "4432cbdb",
   "metadata": {},
   "outputs": [
    {
     "data": {
      "text/plain": [
       "False    23852\n",
       "dtype: int64"
      ]
     },
     "execution_count": 6,
     "metadata": {},
     "output_type": "execute_result"
    }
   ],
   "source": [
    "# remove duplicates and check if the duplicates were removed\n",
    "df_accidents = df_accidents.drop_duplicates()\n",
    "df_accidents.duplicated().value_counts()"
   ]
  },
  {
   "cell_type": "markdown",
   "id": "1d930d3d",
   "metadata": {},
   "source": [
    "    The total number of rows has now dropped from **23,967** to **23,852** due to the removal of duplicates.\n",
    "    We now deal with missing values"
   ]
  },
  {
   "cell_type": "code",
   "execution_count": 7,
   "id": "e66d5ba7",
   "metadata": {},
   "outputs": [
    {
     "name": "stdout",
     "output_type": "stream",
     "text": [
      "<class 'pandas.core.frame.DataFrame'>\n",
      "Int64Index: 23852 entries, 0 to 23966\n",
      "Data columns (total 9 columns):\n",
      " #   Column        Non-Null Count  Dtype \n",
      "---  ------        --------------  ----- \n",
      " 0   date          23852 non-null  object\n",
      " 1   type          23852 non-null  object\n",
      " 2   registration  22418 non-null  object\n",
      " 3   operator      23848 non-null  object\n",
      " 4   fatalities    20019 non-null  object\n",
      " 5   location      22920 non-null  object\n",
      " 6   country       23852 non-null  object\n",
      " 7   cat           23852 non-null  object\n",
      " 8   year          23852 non-null  object\n",
      "dtypes: object(9)\n",
      "memory usage: 1.8+ MB\n"
     ]
    }
   ],
   "source": [
    "df_accidents.info()"
   ]
  },
  {
   "cell_type": "markdown",
   "id": "efc7f973",
   "metadata": {},
   "source": [
    "    We first drop the registration column since it is not useful at this time."
   ]
  },
  {
   "cell_type": "code",
   "execution_count": 8,
   "id": "401e809e",
   "metadata": {},
   "outputs": [],
   "source": [
    "# Drop the registration column\n",
    "df_accidents = df_accidents.drop(\"registration\",axis=1)"
   ]
  },
  {
   "cell_type": "markdown",
   "id": "b49927db",
   "metadata": {},
   "source": [
    "    There are now a total of seven columns remaining."
   ]
  },
  {
   "cell_type": "code",
   "execution_count": 9,
   "id": "5a99201e",
   "metadata": {},
   "outputs": [
    {
     "name": "stdout",
     "output_type": "stream",
     "text": [
      "<class 'pandas.core.frame.DataFrame'>\n",
      "Int64Index: 23852 entries, 0 to 23966\n",
      "Data columns (total 8 columns):\n",
      " #   Column      Non-Null Count  Dtype \n",
      "---  ------      --------------  ----- \n",
      " 0   date        23852 non-null  object\n",
      " 1   type        23852 non-null  object\n",
      " 2   operator    23848 non-null  object\n",
      " 3   fatalities  20019 non-null  object\n",
      " 4   location    22920 non-null  object\n",
      " 5   country     23852 non-null  object\n",
      " 6   cat         23852 non-null  object\n",
      " 7   year        23852 non-null  object\n",
      "dtypes: object(8)\n",
      "memory usage: 1.6+ MB\n"
     ]
    }
   ],
   "source": [
    "df_accidents.info()"
   ]
  },
  {
   "cell_type": "markdown",
   "id": "2bb5f8d8",
   "metadata": {},
   "source": [
    "    Next we check the number of missing values in the remaining columns."
   ]
  },
  {
   "cell_type": "code",
   "execution_count": 10,
   "id": "2af9e545",
   "metadata": {},
   "outputs": [
    {
     "data": {
      "text/plain": [
       "date             0\n",
       "type             0\n",
       "operator         4\n",
       "fatalities    3833\n",
       "location       932\n",
       "country          0\n",
       "cat              0\n",
       "year             0\n",
       "dtype: int64"
      ]
     },
     "execution_count": 10,
     "metadata": {},
     "output_type": "execute_result"
    }
   ],
   "source": [
    "# Check for missing values\n",
    "df_accidents.isna().sum()"
   ]
  },
  {
   "cell_type": "markdown",
   "id": "bde4719f",
   "metadata": {},
   "source": [
    "    The columns with missing values are operator, fatalities and location.\n",
    "    We start with the operator column."
   ]
  },
  {
   "cell_type": "code",
   "execution_count": 11,
   "id": "fe3ed365",
   "metadata": {},
   "outputs": [
    {
     "data": {
      "text/plain": [
       "USAAF                                  2604\n",
       "USAF                                   1118\n",
       "RAF                                     920\n",
       "US Navy                                 745\n",
       "German AF                               411\n",
       "                                       ... \n",
       "Evergreen Helicopters                     1\n",
       "Flight Safety International               1\n",
       "Stephens Aviation                         1\n",
       "Aviation Equipment Corp. of America       1\n",
       "Rovos Air                                 1\n",
       "Name: operator, Length: 6017, dtype: int64"
      ]
     },
     "execution_count": 11,
     "metadata": {},
     "output_type": "execute_result"
    }
   ],
   "source": [
    "# Filling in the values in the operator column\n",
    "# Since the operator column is an object type we check for the unique values to figure out how to fill in the missing values.\n",
    "df_accidents[\"operator\"].value_counts()"
   ]
  },
  {
   "cell_type": "markdown",
   "id": "0330a04d",
   "metadata": {},
   "source": [
    "    We will now fill in the missing values with mode of the column."
   ]
  },
  {
   "cell_type": "code",
   "execution_count": 12,
   "id": "a5601a7c",
   "metadata": {},
   "outputs": [
    {
     "data": {
      "text/plain": [
       "'USAAF'"
      ]
     },
     "execution_count": 12,
     "metadata": {},
     "output_type": "execute_result"
    }
   ],
   "source": [
    "operator_mode = df_accidents[\"operator\"].mode()[0]\n",
    "operator_mode"
   ]
  },
  {
   "cell_type": "code",
   "execution_count": 13,
   "id": "bbd5e4d8",
   "metadata": {},
   "outputs": [],
   "source": [
    "df_accidents[\"operator\"] = df_accidents[\"operator\"].fillna(operator_mode)"
   ]
  },
  {
   "cell_type": "markdown",
   "id": "6a00c39d",
   "metadata": {},
   "source": [
    "    We now check if the operator column has any missing values."
   ]
  },
  {
   "cell_type": "code",
   "execution_count": 14,
   "id": "9da051c4",
   "metadata": {},
   "outputs": [
    {
     "data": {
      "text/plain": [
       "date             0\n",
       "type             0\n",
       "operator         0\n",
       "fatalities    3833\n",
       "location       932\n",
       "country          0\n",
       "cat              0\n",
       "year             0\n",
       "dtype: int64"
      ]
     },
     "execution_count": 14,
     "metadata": {},
     "output_type": "execute_result"
    }
   ],
   "source": [
    "df_accidents.isna().sum()"
   ]
  },
  {
   "cell_type": "markdown",
   "id": "d6d4da02",
   "metadata": {},
   "source": [
    "     Next we tackle the location column"
   ]
  },
  {
   "cell_type": "code",
   "execution_count": 15,
   "id": "1f526105",
   "metadata": {},
   "outputs": [
    {
     "data": {
      "text/plain": [
       "unknown                272\n",
       "Havana-JosÃ© Mar...    105\n",
       "Miami Internatio...     71\n",
       "Beirut Internati...     48\n",
       "Amsterdam-Schiph...     44\n",
       "                      ... \n",
       "Ujung Pandang ha...      1\n",
       "Groot Linden             1\n",
       "near Daiku               1\n",
       "near Morgantown, WV      1\n",
       "Juiz De Fora-Fra...      1\n",
       "Name: location, Length: 14608, dtype: int64"
      ]
     },
     "execution_count": 15,
     "metadata": {},
     "output_type": "execute_result"
    }
   ],
   "source": [
    "# We will still use the mode function for this cause the column is an object type column\n",
    "df_accidents[\"location\"].value_counts()"
   ]
  },
  {
   "cell_type": "code",
   "execution_count": 16,
   "id": "5105c617",
   "metadata": {},
   "outputs": [],
   "source": [
    "df_accidents[\"location\"] = df_accidents[\"location\"].fillna(df_accidents[\"location\"].mode()[0])"
   ]
  },
  {
   "cell_type": "code",
   "execution_count": 17,
   "id": "7b068eef",
   "metadata": {},
   "outputs": [
    {
     "data": {
      "text/plain": [
       "date             0\n",
       "type             0\n",
       "operator         0\n",
       "fatalities    3833\n",
       "location         0\n",
       "country          0\n",
       "cat              0\n",
       "year             0\n",
       "dtype: int64"
      ]
     },
     "execution_count": 17,
     "metadata": {},
     "output_type": "execute_result"
    }
   ],
   "source": [
    "df_accidents.isna().sum()"
   ]
  },
  {
   "cell_type": "markdown",
   "id": "d4ef2c63",
   "metadata": {},
   "source": [
    "    We now focus on the fatalities column changing it from object type to integer type and filling in the missing values."
   ]
  },
  {
   "cell_type": "code",
   "execution_count": 18,
   "id": "125aaf0b",
   "metadata": {},
   "outputs": [
    {
     "name": "stdout",
     "output_type": "stream",
     "text": [
      "[nan '0' '14' '1' '4' '2' '5' '6' '3' '7' '5+ 1' '8' '16' '12' '9' '15'\n",
      " '14+ 1' '10' '11' '35+ 9' '13' '2+ 2' '17' '19' '20' '0+ 1' '18' '13+ 1'\n",
      " '25' '29' '23' '5+ 7' '24' '36' '26' '22' '27' '12+ 1' '21' '7+ 6' '35'\n",
      " '32' '31' '2+ 1' '34' '28' '20+ 5' '0+ 2' '30' '41']\n"
     ]
    }
   ],
   "source": [
    "# Checking for unique values\n",
    "print(df_accidents[\"fatalities\"].unique()[:50])"
   ]
  },
  {
   "cell_type": "code",
   "execution_count": 19,
   "id": "a16bf612",
   "metadata": {},
   "outputs": [],
   "source": [
    "# Replacing nan with '0'\n",
    "df_accidents['fatalities'].fillna(0, inplace=True)"
   ]
  },
  {
   "cell_type": "code",
   "execution_count": 20,
   "id": "ea72ee97",
   "metadata": {},
   "outputs": [
    {
     "name": "stdout",
     "output_type": "stream",
     "text": [
      "[0 '0' '14' '1' '4' '2' '5' '6' '3' '7' '5+ 1' '8' '16' '12' '9' '15'\n",
      " '14+ 1' '10' '11' '35+ 9' '13' '2+ 2' '17' '19' '20' '0+ 1' '18' '13+ 1'\n",
      " '25' '29' '23' '5+ 7' '24' '36' '26' '22' '27' '12+ 1' '21' '7+ 6' '35'\n",
      " '32' '31' '2+ 1' '34' '28' '20+ 5' '0+ 2' '30' '41']\n"
     ]
    }
   ],
   "source": [
    "print(df_accidents[\"fatalities\"].unique()[:50])"
   ]
  },
  {
   "cell_type": "code",
   "execution_count": 21,
   "id": "36b95431",
   "metadata": {},
   "outputs": [],
   "source": [
    "# Changing the column from object to integer and fill in the missing values\n",
    "df_accidents['fatalities'] = df_accidents['fatalities'].apply(lambda x: sum(map(int, x.replace(' ', '').split('+'))) if '+' in str(x) else int(x))\n"
   ]
  },
  {
   "cell_type": "code",
   "execution_count": 22,
   "id": "1ffa4b6c",
   "metadata": {},
   "outputs": [
    {
     "data": {
      "text/plain": [
       "date          0\n",
       "type          0\n",
       "operator      0\n",
       "fatalities    0\n",
       "location      0\n",
       "country       0\n",
       "cat           0\n",
       "year          0\n",
       "dtype: int64"
      ]
     },
     "execution_count": 22,
     "metadata": {},
     "output_type": "execute_result"
    }
   ],
   "source": [
    "df_accidents.isna().sum()"
   ]
  },
  {
   "cell_type": "code",
   "execution_count": 23,
   "id": "ebd20743",
   "metadata": {},
   "outputs": [
    {
     "name": "stdout",
     "output_type": "stream",
     "text": [
      "<class 'pandas.core.frame.DataFrame'>\n",
      "Int64Index: 23852 entries, 0 to 23966\n",
      "Data columns (total 8 columns):\n",
      " #   Column      Non-Null Count  Dtype \n",
      "---  ------      --------------  ----- \n",
      " 0   date        23852 non-null  object\n",
      " 1   type        23852 non-null  object\n",
      " 2   operator    23852 non-null  object\n",
      " 3   fatalities  23852 non-null  int64 \n",
      " 4   location    23852 non-null  object\n",
      " 5   country     23852 non-null  object\n",
      " 6   cat         23852 non-null  object\n",
      " 7   year        23852 non-null  object\n",
      "dtypes: int64(1), object(7)\n",
      "memory usage: 1.6+ MB\n"
     ]
    }
   ],
   "source": [
    "df_accidents.info()"
   ]
  },
  {
   "cell_type": "markdown",
   "id": "d1fe15d5",
   "metadata": {},
   "source": [
    "**To explain the code:**\n",
    "\n",
    "- df_accidents['fatalities'] = ...Assigns the result back into the fatalities column.\n",
    "- .apply(lambda x: ... )- Runs the anonymous function (lambda) once on each cell value x of the column.\n",
    "- if '+' in str(x)- Converts x to a string and checks if it contains the '+' character.\n",
    "- x.replace(' ', '')- Removes spaces from the string so splitting is clean.\n",
    "- .split('+') - Splits the string on '+' into parts (\"5+1\" to ['5', '1']).\n",
    "- map(int, ...)- Converts each split substring to an integer.\n",
    "- sum(...)- Adds the integers together.\n",
    "- else int(x)- If there is no '+' sign, the code converts the value directly to an integer ( \"14\" to 14)."
   ]
  },
  {
   "cell_type": "markdown",
   "id": "20364876",
   "metadata": {},
   "source": [
    "## **Exploratory Data Analysis**"
   ]
  },
  {
   "cell_type": "markdown",
   "id": "0ce40c41",
   "metadata": {},
   "source": [
    "In this section, we explore the aviation accidents dataset to uncover insights related to our three guiding questions:\n",
    "\n",
    "1. Which aircraft models/manufacturers have lower accident rates?\n",
    "\n",
    "2. How accident severity differs across aircraft types.\n",
    "\n",
    "3. What operational factors contribute to accident risk."
   ]
  },
  {
   "cell_type": "markdown",
   "id": "384343e9",
   "metadata": {},
   "source": [
    "**1. Aircraft Models and Operators**\n",
    "\n",
    "We examine the distribution of accidents across aircraft models and operators to identify which are most frequently involved in accidents. While higher counts may reflect popularity and fleet size rather than inherent safety risks, this provides a starting point for further analysis."
   ]
  },
  {
   "cell_type": "code",
   "execution_count": 24,
   "id": "516fdd9d",
   "metadata": {},
   "outputs": [
    {
     "data": {
      "text/plain": [
       "Douglas C-47A (DC-3)                   1916\n",
       "Douglas C-47 (DC-3)                     668\n",
       "Douglas C-47B (DC-3)                    592\n",
       "Curtiss C-46A                           564\n",
       "Antonov An-2R                           391\n",
       "                                       ... \n",
       "AÃ©rospatiale SN.600 Corvette             1\n",
       "Embraer ERJ 170LR (ERJ-170-100 LR)        1\n",
       "Airbus A321-251N                          1\n",
       "Douglas R4D-6L (DC-3)                     1\n",
       "Consolidated Liberator C.VII (C-87)       1\n",
       "Name: type, Length: 3201, dtype: int64"
      ]
     },
     "execution_count": 24,
     "metadata": {},
     "output_type": "execute_result"
    }
   ],
   "source": [
    "# accident counts by aircraft type\n",
    "accident_counts = df_accidents['type'].value_counts()\n",
    "accident_counts"
   ]
  },
  {
   "cell_type": "code",
   "execution_count": 25,
   "id": "3c1c0c1c",
   "metadata": {},
   "outputs": [
    {
     "data": {
      "text/plain": [
       "Douglas C-47A (DC-3)         1916\n",
       "Douglas C-47 (DC-3)           668\n",
       "Douglas C-47B (DC-3)          592\n",
       "Curtiss C-46A                 564\n",
       "Antonov An-2R                 391\n",
       "Junkers Ju-52/3m              375\n",
       "Curtiss C-46D                 344\n",
       "Douglas Dakota III (DC-3)     262\n",
       "DHC-6 Twin Otter 300          258\n",
       "Cessna 208B Grand Caravan     247\n",
       "Name: type, dtype: int64"
      ]
     },
     "execution_count": 25,
     "metadata": {},
     "output_type": "execute_result"
    }
   ],
   "source": [
    "# Top 10 aircraft types with highest accident frequency\n",
    "top_types = accident_counts.head(10)\n",
    "top_types"
   ]
  },
  {
   "cell_type": "code",
   "execution_count": 26,
   "id": "86efb25e",
   "metadata": {},
   "outputs": [
    {
     "data": {
      "text/plain": [
       "USAAF         2608\n",
       "USAF          1118\n",
       "RAF            920\n",
       "US Navy        745\n",
       "German AF      411\n",
       "private        299\n",
       "Aeroflot       198\n",
       "Unknown        185\n",
       "Soviet AF      141\n",
       "Air France     138\n",
       "Name: operator, dtype: int64"
      ]
     },
     "execution_count": 26,
     "metadata": {},
     "output_type": "execute_result"
    }
   ],
   "source": [
    "# Accident rates by operator\n",
    "operator_counts = df_accidents['operator'].value_counts().head(10)\n",
    "operator_counts"
   ]
  },
  {
   "cell_type": "markdown",
   "id": "5be7698b",
   "metadata": {},
   "source": [
    "**2. Accident Severity**\n",
    "\n",
    "We define severity as the proportion of accidents that resulted in at least one fatality for each aircraft type. This metric allows us to compare how often accidents involving different aircraft types are deadly, beyond just the raw count of accidents."
   ]
  },
  {
   "cell_type": "code",
   "execution_count": 27,
   "id": "bd2f7fd3",
   "metadata": {},
   "outputs": [
    {
     "data": {
      "text/plain": [
       "0    14538\n",
       "1     9314\n",
       "Name: FatalFlag, dtype: int64"
      ]
     },
     "execution_count": 27,
     "metadata": {},
     "output_type": "execute_result"
    }
   ],
   "source": [
    "# A binary flag for whether the accident was fatal(atleast 1 fatality)\n",
    "df_accidents['FatalFlag'] = df_accidents['fatalities'].apply(lambda x:1 if x > 0 else 0)\n",
    "df_accidents['FatalFlag'].value_counts().head(10)"
   ]
  },
  {
   "cell_type": "code",
   "execution_count": 28,
   "id": "c1e6f648",
   "metadata": {},
   "outputs": [
    {
     "name": "stdout",
     "output_type": "stream",
     "text": [
      "type\n",
      "Morane Saulnier (FMA) MS.760 Paris I    1.000000\n",
      "Consolidated C-10A Catalina (PBY-5A)    0.900000\n",
      "Short Sunderland                        0.866667\n",
      "Ilyushin Il-14P                         0.857143\n",
      "Short Sunderland III                    0.848485\n",
      "Consolidated Catalina                   0.842105\n",
      "Ilyushin Il-12P                         0.833333\n",
      "Let L-410UVP-E20                        0.818182\n",
      "Boeing KC-97G Stratofreighter           0.812500\n",
      "Nord 2501 Noratlas                      0.800000\n",
      "Name: FatalFlag, dtype: float64\n"
     ]
    }
   ],
   "source": [
    "# Aircraft types with at least 10 recorded accidents\n",
    "type_counts = df_accidents['type'].value_counts()\n",
    "common_types = type_counts[type_counts >= 10].index\n",
    "\n",
    "severity_by_type_filtered = (\n",
    "    df_accidents[df_accidents['type'].isin(common_types)]\n",
    "    .groupby('type')['FatalFlag']\n",
    "    .mean()\n",
    "    .sort_values(ascending=False)\n",
    "    .head(10)\n",
    ")\n",
    "\n",
    "print(severity_by_type_filtered)"
   ]
  },
  {
   "cell_type": "markdown",
   "id": "086850a3",
   "metadata": {},
   "source": [
    "    This output explains the deadliness of different aircraft types when they crash.\n",
    "\n",
    "    For example:\n",
    "\n",
    "    Morane Saulnier (FMA) MS.760 Paris I = 1.0 - Every recorded crash in the dataset involving this aircraft was fatal. No survivors.\n",
    "\n",
    "    Consolidated C-10A Catalina (PBY-5A) = 0.9 = 90% of the crashes recorded for this type resulted in at least one fatality.\n",
    "\n",
    "    Short Sunderland = 0.8667 - 87% fatal crash rate.\n",
    "\n",
    "    Let L-410UVP-E20 = 0.8182 - 82% fatal crash rate."
   ]
  },
  {
   "cell_type": "markdown",
   "id": "6f3a5162",
   "metadata": {},
   "source": [
    "**3. Operational Factors**\n",
    "\n",
    "We investigate external and operational factors such as:\n",
    "\n",
    "- Year: accident trends over time.\n",
    "\n",
    "- Country: regional differences in accident frequency.\n",
    "\n",
    "- Category (Cat): types of accidents (Accident, Incident, Hijacking, etc.).\n",
    "\n",
    "These provide context on how broader operational conditions influence aviation safety.\n",
    "\n",
    "The accident categories are :\n",
    "- A - Accident\n",
    "- I - Incident\n",
    "- H - Hijacking\n",
    "- C - Criminal occurrence\n",
    "- O - Other occurrence\n",
    "- U - type of occurence unknown\n",
    "- 1 - hull-loss\n",
    "- 2 - repairable damage"
   ]
  },
  {
   "cell_type": "code",
   "execution_count": 29,
   "id": "472dc17f",
   "metadata": {},
   "outputs": [
    {
     "name": "stdout",
     "output_type": "stream",
     "text": [
      "Accidents by year:\n",
      "year\n",
      "2015       224\n",
      "2016       209\n",
      "2017       196\n",
      "2018       234\n",
      "2019       245\n",
      "2020       203\n",
      "2021       183\n",
      "2022       168\n",
      "2023        56\n",
      "unknown     61\n",
      "dtype: int64\n",
      "Top 10 accident countries:\n",
      "USA                4376\n",
      "Russia             1418\n",
      "Unknown country     838\n",
      "U.K.                837\n",
      "Canada              825\n",
      "India               700\n",
      "Brazil              609\n",
      "France              550\n",
      "China               514\n",
      "Germany             513\n",
      "Name: country, dtype: int64\n",
      "Accident distribution by category:\n",
      "A1    17318\n",
      "A2     2494\n",
      "C1     1181\n",
      "H2     1049\n",
      "O1     1033\n",
      "U1      571\n",
      "C2       84\n",
      "O2       65\n",
      "H1       42\n",
      "I2       12\n",
      "I1        3\n",
      "Name: cat, dtype: int64\n"
     ]
    }
   ],
   "source": [
    "# Trend of accidents by year\n",
    "accidents_by_year = df_accidents.groupby('year').size()\n",
    "\n",
    "# Top 10 countries with most accidents\n",
    "accidents_by_country = df_accidents['country'].value_counts().head(10)\n",
    "\n",
    "# Accident distribution by category\n",
    "accidents_by_category = df_accidents['cat'].value_counts()\n",
    "\n",
    "print(\"Accidents by year:\")\n",
    "print(accidents_by_year.tail(10))\n",
    "\n",
    "print(\"Top 10 accident countries:\")\n",
    "print(accidents_by_country)\n",
    "\n",
    "print(\"Accident distribution by category:\")\n",
    "print(accidents_by_category)\n"
   ]
  },
  {
   "cell_type": "markdown",
   "id": "23ac37ab",
   "metadata": {},
   "source": [
    "## **Visualizations**"
   ]
  },
  {
   "cell_type": "markdown",
   "id": "bcdbaa2f",
   "metadata": {},
   "source": [
    "**1. Which aircraft models/manufacturers have lower accident rates?**"
   ]
  },
  {
   "cell_type": "code",
   "execution_count": 30,
   "id": "6ea4b103",
   "metadata": {},
   "outputs": [
    {
     "data": {
      "image/png": "[encoded data removed]",
      "text/plain": [
       "<Figure size 720x432 with 1 Axes>"
      ]
     },
     "metadata": {
      "needs_background": "light"
     },
     "output_type": "display_data"
    }
   ],
   "source": [
    "plt.figure(figsize=(10,6))\n",
    "top_types.plot(kind='bar', color='green')\n",
    "plt.title(\"Top 10 Aircraft Types by Accident Count\")\n",
    "plt.ylabel(\"Accident Count\")\n",
    "plt.xlabel(\"Aircraft Type\")\n",
    "plt.show()"
   ]
  },
  {
   "cell_type": "markdown",
   "id": "ef882ea3",
   "metadata": {},
   "source": [
    "**Interpretation:**\n",
    "\n",
    "- The Douglas C-47 (military version of the DC-3) dominates with staggering counts across its sub-variants (C-47A/B, Dakota III). Why? Mass production during WWII and heavy deployment for troop/cargo transport. More planes + more missions = more accidents.\n",
    "\n",
    "- Other WWII-era transport aircraft like Curtiss C-46 and Junkers Ju-52 also appear high, again reflecting the war era.\n",
    "\n",
    "- On the civilian side, Antonov An-2R, Twin Otter, and Cessna Caravan show up. These are widely used utility aircraft in harsh, remote environments (small strips, developing regions, bad weather)"
   ]
  },
  {
   "cell_type": "code",
   "execution_count": 31,
   "id": "f28578e6",
   "metadata": {},
   "outputs": [
    {
     "data": {
      "image/png": "[encoded data removed]",
      "text/plain": [
       "<Figure size 720x432 with 1 Axes>"
      ]
     },
     "metadata": {
      "needs_background": "light"
     },
     "output_type": "display_data"
    }
   ],
   "source": [
    "plt.figure(figsize=(10,6))\n",
    "operator_counts.plot(kind='bar')\n",
    "plt.title(\"Top 10 Operators by Accident Count\")\n",
    "plt.ylabel(\"Accident Count\")\n",
    "plt.xlabel(\"Operator\")\n",
    "plt.show()"
   ]
  },
  {
   "cell_type": "markdown",
   "id": "92f10fba",
   "metadata": {},
   "source": [
    "**Interpretation:**\n",
    "\n",
    "- Military operators dominate accident history — USAAF, USAF, RAF, US Navy, and German AF account for thousands of accidents. This makes sense because during WWII and Cold War, military flying intensity was massive, risk tolerance was higher, and safety standards were not the same as civil aviation.\n",
    "\n",
    "- Private operators appear, but with far fewer accidents (likely due to smaller fleets and lighter aircraft).\n",
    "\n",
    "- Civilian airlines like Aeroflot and Air France appear with notable but much lower counts compared to military."
   ]
  },
  {
   "cell_type": "markdown",
   "id": "f4f04727",
   "metadata": {},
   "source": [
    "**2. Accident Severity**"
   ]
  },
  {
   "cell_type": "code",
   "execution_count": 32,
   "id": "a0b3a941",
   "metadata": {},
   "outputs": [
    {
     "data": {
      "image/png": "[encoded data removed]",
      "text/plain": [
       "<Figure size 720x432 with 1 Axes>"
      ]
     },
     "metadata": {
      "needs_background": "light"
     },
     "output_type": "display_data"
    }
   ],
   "source": [
    "plt.figure(figsize=(10,6))\n",
    "severity_by_type_filtered.plot(kind='bar', color='green', edgecolor='black')\n",
    "\n",
    "plt.title(\"Fatal Accident Percentage by Aircraft Type (Top 10, ≥10 Accidents)\")\n",
    "plt.xlabel(\"Aircraft Type\")\n",
    "plt.ylabel(\"Proportion of Accidents with Fatalities\")\n",
    "plt.show()"
   ]
  },
  {
   "cell_type": "markdown",
   "id": "ff842de8",
   "metadata": {},
   "source": [
    "**Interpretation**\n",
    "\n",
    "Morane Saulnier (FMA) MS.760 Paris I = 1.0 - Every recorded crash in the dataset involving this aircraft was fatal. No survivors.\n",
    "\n",
    "Consolidated C-10A Catalina (PBY-5A) = 0.9 = 90% of the crashes recorded for this type resulted in at least one fatality.\n",
    "\n",
    "Short Sunderland = 0.8667 - 87% fatal crash rate.\n",
    "\n",
    "Let L-410UVP-E20 = 0.8182 - 82% fatal crash rate."
   ]
  },
  {
   "cell_type": "markdown",
   "id": "69930fad",
   "metadata": {},
   "source": [
    "**3. Which operational factors contribute to accident risk?**"
   ]
  },
  {
   "cell_type": "code",
   "execution_count": 33,
   "id": "621a088d",
   "metadata": {},
   "outputs": [
    {
     "data": {
      "image/png": "[encoded data removed]",
      "text/plain": [
       "<Figure size 864x432 with 1 Axes>"
      ]
     },
     "metadata": {
      "needs_background": "light"
     },
     "output_type": "display_data"
    }
   ],
   "source": [
    "plt.figure(figsize=(12,6))\n",
    "accidents_by_year.plot(kind='line', marker='o')\n",
    "plt.title(\"Accident Trend Over Time\")\n",
    "plt.ylabel(\"Number of Accidents\")\n",
    "plt.xlabel(\"Year\")\n",
    "plt.grid(True)\n",
    "plt.show()\n"
   ]
  },
  {
   "cell_type": "markdown",
   "id": "8532e4d9",
   "metadata": {},
   "source": [
    "**Interpretation:**\n",
    "\n",
    "**Early Period (1919–1935)**\n",
    "\n",
    "Very low accident numbers — aviation was small-scale, fewer flights worldwide.\n",
    "\n",
    "**Sharp Spike (1939–1945)**\n",
    "\n",
    "Enormous peak during World War II — military aviation activity skyrocketed, and combat/fleet operations caused many losses.\n",
    "\n",
    "This is the single largest factor in the dataset.\n",
    "\n",
    "**Post-War Decline (late 1940s–1950s)**\n",
    "\n",
    "Steep drop after WWII → reduction in combat operations.\n",
    "\n",
    "However, still higher than pre-war because commercial aviation began expanding.\n",
    "\n",
    "**Stable/Moderate Period (1960s–1990s)**\n",
    "\n",
    "Accidents fluctuate around 200–300 per year.\n",
    "\n",
    "Reflects rapid growth of civil aviation — more flights = more incidents, but offset by better safety protocols and technology.\n",
    "\n",
    "**Gradual Decline (2000s–2019)**\n",
    "\n",
    "Accident frequency trends downward, reflecting improvements in modern aircraft design, navigation systems, and training.\n",
    "\n",
    "**Recent Drop (2020–2023)**\n",
    "\n",
    "Dramatic fall after 2019. Likely driven by the COVID-19 pandemic, when global flights decreased sharply.\n",
    "\n",
    "Suggests external operational disruptions (like pandemics) drastically affect accident frequency."
   ]
  },
  {
   "cell_type": "code",
   "execution_count": 34,
   "id": "78c1bb69",
   "metadata": {},
   "outputs": [
    {
     "data": {
      "image/png": "[encoded data removed]",
      "text/plain": [
       "<Figure size 720x432 with 1 Axes>"
      ]
     },
     "metadata": {
      "needs_background": "light"
     },
     "output_type": "display_data"
    }
   ],
   "source": [
    "plt.figure(figsize=(10,6))\n",
    "accidents_by_country.plot(kind='bar', color=\"green\")\n",
    "plt.title(\"Top 10 Countries by Accident Count\")\n",
    "plt.ylabel(\"Accident Count\")\n",
    "plt.xlabel(\"Country\")\n",
    "plt.show()\n"
   ]
  },
  {
   "cell_type": "markdown",
   "id": "a9be2992",
   "metadata": {},
   "source": [
    "**Interpretation:**\n",
    "- USA leads (4,376 accidents), followed by Russia (1,418).\n",
    "\n",
    "- High counts in the USA/Canada/U.K. don’t automatically mean “less safe”—these are countries with large aviation sectors.\n",
    "\n",
    "- Emerging markets (India, Brazil, China) also show high counts, often linked to rapidly expanding fleets + infrastructure gaps.\n",
    "\n",
    "- “Unknown country” being 838 means data gaps exist, limiting some operational insights."
   ]
  },
  {
   "cell_type": "code",
   "execution_count": 35,
   "id": "bcd43caa",
   "metadata": {},
   "outputs": [
    {
     "data": {
      "image/png": "[encoded data removed]",
      "text/plain": [
       "<Figure size 720x432 with 1 Axes>"
      ]
     },
     "metadata": {
      "needs_background": "light"
     },
     "output_type": "display_data"
    }
   ],
   "source": [
    "plt.figure(figsize=(10,6))\n",
    "accidents_by_category.plot(kind='bar')\n",
    "plt.title(\"Accidents by Category\")\n",
    "plt.ylabel(\"Accident Count\")\n",
    "plt.xlabel(\"Accident Category\")\n",
    "plt.show()"
   ]
  },
  {
   "cell_type": "markdown",
   "id": "fa421263",
   "metadata": {},
   "source": [
    "**Interpretation:**\n",
    "**Dominance of A1 (Accident – hull loss)**\n",
    "\n",
    "- A1 accounts for the overwhelming majority (17,000+ cases).\n",
    "\n",
    "- This means most reported occurrences are serious, non-repairable accidents, not just minor incidents.\n",
    "\n",
    "- It reflects that data collection prioritizes major accidents over less severe events.\n",
    "\n",
    "**A2 (Accident – repairable damage)**\n",
    "\n",
    "- A2 is the next largest, with around 2,500 cases.\n",
    "\n",
    "- These are still significant accidents but with survivability and lower operational loss.\n",
    "\n",
    "**Criminal (C1), Hijacking (H2), Other (O1, O2), Incidents (I1, I2)**\n",
    "\n",
    "- Much smaller counts compared to accidents.\n",
    "\n",
    "- This shows criminal/terrorism-related and security threats are rare but still present.\n",
    "\n",
    "- Hijackings (H2) and criminal cases (C1) remind us that operational safety isn’t only mechanical — it also involves human/security factors.\n",
    "\n",
    "**Minimal representation of unknowns (U)**\n",
    "\n",
    "- Very few “unknown” categories → dataset is fairly reliable and categorized well."
   ]
  },
  {
   "cell_type": "code",
   "execution_count": 36,
   "id": "b7d342b1",
   "metadata": {},
   "outputs": [],
   "source": [
    "# Downloading clean data\n",
    "df_accidents.to_csv(\"Cleaned_accident_data.csv\", index=False)"
   ]
  },
  {
   "cell_type": "markdown",
   "id": "15ac4cec",
   "metadata": {},
   "source": [
    "## **Recommendations**"
   ]
  },
  {
   "cell_type": "markdown",
   "id": "2211ba97",
   "metadata": {},
   "source": [
    "**Q1: Which aircraft models/manufacturers have lower accident rates?**\n",
    "\n",
    "**Findings:**\n",
    "\n",
    "- Legacy war-era and utility aircraft dominate historical accident counts (e.g., Douglas C-47, Curtiss C-46, Junkers Ju-52). Modern aircraft like the Airbus A320 or Boeing 737 show far fewer accidents.\n",
    "\n",
    "**Recommendations:**\n",
    "\n",
    "- Flight schools - Avoid older legacy types for training fleets. Prioritize certified modern light trainers (e.g., Cessna, Piper) with stronger safety records.\n",
    "\n",
    "- Private operators - Retire aging high-risk aircraft (e.g., utility types with frequent accidents in harsh conditions) and invest in modern alternatives with better safety technology.\n",
    "\n",
    "- Regulators/insurers - Incentivize use of newer aircraft by linking certification and premiums to proven safety performance post-2000."
   ]
  },
  {
   "cell_type": "markdown",
   "id": "bcef48da",
   "metadata": {},
   "source": [
    "**Q2: How does accident severity differ across aircraft types?**\n",
    "\n",
    "**Findings:**\n",
    "\n",
    "- Certain aircraft (e.g., Morane Saulnier MS.760, Catalina, Short Sunderland) show >80% fatal crash rates. In contrast, modern jets and larger commercial types have much lower fatality ratios, with accidents more often survivable.\n",
    "\n",
    "**Recommendations:**\n",
    "\n",
    "- Charter operators/flight schools - Do not use aircraft with historically extreme fatality ratios for passenger or student operations; restrict them to museum or display flying.\n",
    "\n",
    "- Regulators - Direct safety oversight and crashworthiness upgrades toward small utility and military-derived aircraft, which are disproportionately deadly.\n",
    "\n",
    "- Airlines - Continue investments in cabin safety, survivability measures, and training that enhance post-crash outcomes.."
   ]
  },
  {
   "cell_type": "markdown",
   "id": "7a49a65c",
   "metadata": {},
   "source": [
    "**Q3: What operational factors contribute to accident risk?**\n",
    "\n",
    "**Findings:**\n",
    "\n",
    "- Accident frequency peaked during WWII (operational intensity, low safety standards).\n",
    "\n",
    "Since 2000, steady decline in accidents due to safety technologies and regulation.\n",
    "\n",
    "Majority of reported cases are catastrophic hull losses (A1), while early-warning categories (incidents, repairable damage) are underreported.\n",
    "\n",
    "**Recommendations:**\n",
    "\n",
    "- Regulators - Enforce stronger incident (A2, I1, I2) reporting to catch problems before they escalate into hull-loss events.\n",
    "\n",
    "- Flight schools and operators - Adopt modern navigation, weather monitoring, and automation to sustain downward accident trends.\n",
    "\n",
    "- All stakeholders - Maintain robust aviation security protocols, since hijackings and criminal incidents, while rare, remain high-impact risks."
   ]
  },
  {
   "cell_type": "markdown",
   "id": "64190a82",
   "metadata": {},
   "source": [
    "## **Conclusion**"
   ]
  },
  {
   "cell_type": "markdown",
   "id": "2e2fb008",
   "metadata": {},
   "source": [
    "Modern aircraft are safer than older designs, and accident severity has steadily declined with technology and regulation.\n",
    "\n",
    "- Legacy aircraft (especially war-era and certain utility types) are accident-prone and often fatal when crashes occur. These should be phased out of active training and charter use.\n",
    "\n",
    "- Modern jets and certified light trainers are far safer and should be the backbone of aviation training and commercial operations.\n",
    "\n",
    "- Operational vigilance matters: safety gains can erode without continuous investment in incident reporting, security, and emerging technologies.\n",
    "\n",
    "The safest path forward for stakeholders is to invest in modern aircraft, enforce stronger early-warning reporting, and avoid high-fatality legacy types. This approach will minimize accident exposure, reduce insurance risk, and sustain public trust in aviation safety."
   ]
  }
 ],
 "metadata": {
  "kernelspec": {
   "display_name": "learn-env",
   "language": "python",
   "name": "python3"
  },
  "language_info": {
   "codemirror_mode": {
    "name": "ipython",
    "version": 3
   },
   "file_extension": ".py",
   "mimetype": "text/x-python",
   "name": "python",
   "nbconvert_exporter": "python",
   "pygments_lexer": "ipython3",
   "version": "3.8.5"
  }
 },
 "nbformat": 4,
 "nbformat_minor": 5
}
