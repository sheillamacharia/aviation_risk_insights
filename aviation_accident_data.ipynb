{
 "cells": [
  {
   "cell_type": "markdown",
   "id": "16b15b69",
   "metadata": {},
   "source": [
    "## **Business Understanding**"
   ]
  },
  {
   "cell_type": "markdown",
   "id": "7021146d",
   "metadata": {},
   "source": [
    "Air travel safety is a critical concern for both industry stakeholders and the general public. While aviation is among the safetest modes of transport, accidents still occur.  Aircraft manufacturers, airlines, and regulators must therefore evaluate accident patterns to identify risks and improve safety standards."
   ]
  },
  {
   "cell_type": "markdown",
   "id": "27d851c2",
   "metadata": {},
   "source": [
    "**Real World Problem**\n",
    "\n",
    "A new aviation safety advisory group is seeking data-driven recommendations on which aircraft models and manufacturers demonstrate the lowest safety risks. Their goal is to advise flight schools, private operators, and regulators on selecting aircraft types that minimize accident exposure while maintaining operational efficiency."
   ]
  },
  {
   "cell_type": "markdown",
   "id": "5d03bede",
   "metadata": {},
   "source": [
    "**Stakeholders**\n",
    "\n",
    "- **Flight schools**: need to choose training aircraft that balance affordability and safety for students.  \n",
    "- **Private aircraft owners**: want to make informed decisions when purchasing or operating aircraft.  \n",
    "- **Regulatory bodies**: require evidence-based insights to guide safety recommendations and certification policies.  \n",
    "- **Insurance companies**: benefit from understanding which aircraft types carry lower or higher risk.  "
   ]
  },
  {
   "cell_type": "markdown",
   "id": "39112bb8",
   "metadata": {},
   "source": [
    "**Business Value** \n",
    " \n",
    "By analyzing accident data, this project will help stakeholders identify:  \n",
    "1. Which aircraft models and manufacturers have lower accident rates.  \n",
    "2. How accident severity differs across aircraft types.  \n",
    "3. What operational factors (e.g., time of day, weather, number of engines) contribute to accident risk.  "
   ]
  },
  {
   "cell_type": "markdown",
   "id": "820fc710",
   "metadata": {},
   "source": [
    "**Guiding Business Questions**  \n",
    "\n",
    "1. Which aircraft manufacturers and models have the lowest accident rates in the last 10–20 years?  \n",
    "2. How severe are accidents associated with different aircraft types (fatal vs. non-fatal)?  \n",
    "3. What actionable recommendations can be made about which aircraft types are best suited for minimizing safety risks?  \n",
    "\n",
    "The findings will directly inform safety-focused decision-making in the aviation sector, with practical implications for reducing accident risks and improving long-term trust in air travel."
   ]
  },
  {
   "cell_type": "markdown",
   "id": "7cc8e7fa",
   "metadata": {},
   "source": [
    "## **Data Understanding**"
   ]
  },
  {
   "cell_type": "markdown",
   "id": "62a77278",
   "metadata": {},
   "source": [
    " We explore the dataset to understand its structure, key variables, and potential issues (missing values, duplicates). This helps us assess whether the dataset is suitable for answering our business questions about aviation safety.\n",
    "\n",
    "This data set provides a record of aircraft accidents that occurred between **1919 - 2023**.\n",
    "\n",
    "\n",
    "The dataset contains **23,967 rows** and **9 columns**. Each row represents an aviation accident/incident report. The columns provide details about the accident. \n",
    "\n",
    "**Columns Overview**\n",
    "- Date – when the accident/incident occurred\n",
    "- Location – where it occurred\n",
    "- Country – country of occurrence\n",
    "- Type – aircraft type involved\n",
    "- Registration – aircraft registration number\n",
    "- Operator – organization/airline operating the aircraft\n",
    "- Aboard/Fatalities – number of people aboard and number of fatalities\n",
    "- Cate (Accident Category) – classification of the occurrence\n",
    "- Year – extracted year of occurrencE\n",
    "\n",
    "The accident categories are :\n",
    "- A - Accident\n",
    "- I - Incident\n",
    "- H - Hijacking\n",
    "- C - Criminal occurrence\n",
    "- O - Other occurrence\n",
    "- U - type of occurence unknown\n",
    "- 1 - hull-loss\n",
    "- 2 - repairable damage\n",
    "\n",
    "**Initial Observations**\n",
    "\n",
    "- The dataset spans over a century of aviation history (1919–2023), giving a rich view of trends over time.\n",
    "- The Cate column is essential for distinguishing between accidents, incidents, and other occurrences.\n",
    "- The Fatalities variable will allow us to evaluate severity and safety across different dimensions (aircraft type, operator, country).\n",
    "- Some columns (e.g., registration) may not be directly useful for safety insights and could be dropped later."
   ]
  },
  {
   "cell_type": "code",
   "execution_count": 1,
   "id": "cef9f159",
   "metadata": {},
   "outputs": [],
   "source": [
    "# Import libraries\n",
    "import pandas as pd"
   ]
  },
  {
   "cell_type": "code",
   "execution_count": 2,
   "id": "c2b24351",
   "metadata": {},
   "outputs": [
    {
     "data": {
      "text/html": [
       "<div>\n",
       "<style scoped>\n",
       "    .dataframe tbody tr th:only-of-type {\n",
       "        vertical-align: middle;\n",
       "    }\n",
       "\n",
       "    .dataframe tbody tr th {\n",
       "        vertical-align: top;\n",
       "    }\n",
       "\n",
       "    .dataframe thead th {\n",
       "        text-align: right;\n",
       "    }\n",
       "</style>\n",
       "<table border=\"1\" class=\"dataframe\">\n",
       "  <thead>\n",
       "    <tr style=\"text-align: right;\">\n",
       "      <th></th>\n",
       "      <th>date</th>\n",
       "      <th>type</th>\n",
       "      <th>registration</th>\n",
       "      <th>operator</th>\n",
       "      <th>fatalities</th>\n",
       "      <th>location</th>\n",
       "      <th>country</th>\n",
       "      <th>cat</th>\n",
       "      <th>year</th>\n",
       "    </tr>\n",
       "  </thead>\n",
       "  <tbody>\n",
       "    <tr>\n",
       "      <th>0</th>\n",
       "      <td>date unk.</td>\n",
       "      <td>Antonov An-12B</td>\n",
       "      <td>T-1206</td>\n",
       "      <td>Indonesian AF</td>\n",
       "      <td>NaN</td>\n",
       "      <td>NaN</td>\n",
       "      <td>Unknown country</td>\n",
       "      <td>U1</td>\n",
       "      <td>unknown</td>\n",
       "    </tr>\n",
       "    <tr>\n",
       "      <th>1</th>\n",
       "      <td>date unk.</td>\n",
       "      <td>Antonov An-12B</td>\n",
       "      <td>T-1204</td>\n",
       "      <td>Indonesian AF</td>\n",
       "      <td>NaN</td>\n",
       "      <td>NaN</td>\n",
       "      <td>Unknown country</td>\n",
       "      <td>U1</td>\n",
       "      <td>unknown</td>\n",
       "    </tr>\n",
       "    <tr>\n",
       "      <th>2</th>\n",
       "      <td>date unk.</td>\n",
       "      <td>Antonov An-12B</td>\n",
       "      <td>T-1201</td>\n",
       "      <td>Indonesian AF</td>\n",
       "      <td>NaN</td>\n",
       "      <td>NaN</td>\n",
       "      <td>Unknown country</td>\n",
       "      <td>U1</td>\n",
       "      <td>unknown</td>\n",
       "    </tr>\n",
       "    <tr>\n",
       "      <th>3</th>\n",
       "      <td>date unk.</td>\n",
       "      <td>Antonov An-12BK</td>\n",
       "      <td>NaN</td>\n",
       "      <td>Soviet AF</td>\n",
       "      <td>NaN</td>\n",
       "      <td>Tiksi Airport (IKS)</td>\n",
       "      <td>Russia</td>\n",
       "      <td>A1</td>\n",
       "      <td>unknown</td>\n",
       "    </tr>\n",
       "    <tr>\n",
       "      <th>4</th>\n",
       "      <td>date unk.</td>\n",
       "      <td>Antonov An-12BP</td>\n",
       "      <td>CCCP-11815</td>\n",
       "      <td>Soviet AF</td>\n",
       "      <td>0</td>\n",
       "      <td>Massawa Airport ...</td>\n",
       "      <td>Eritrea</td>\n",
       "      <td>A1</td>\n",
       "      <td>unknown</td>\n",
       "    </tr>\n",
       "    <tr>\n",
       "      <th>5</th>\n",
       "      <td>date unk.</td>\n",
       "      <td>Antonov An-12BP</td>\n",
       "      <td>CCCP-12172</td>\n",
       "      <td>Soviet AF</td>\n",
       "      <td>NaN</td>\n",
       "      <td>NaN</td>\n",
       "      <td>Russia</td>\n",
       "      <td>U1</td>\n",
       "      <td>unknown</td>\n",
       "    </tr>\n",
       "    <tr>\n",
       "      <th>6</th>\n",
       "      <td>date unk.</td>\n",
       "      <td>Antonov An-2</td>\n",
       "      <td>CCCP-N574</td>\n",
       "      <td>GUSMP, Directorate of Polar Aviation</td>\n",
       "      <td>NaN</td>\n",
       "      <td>unknown</td>\n",
       "      <td>Russia</td>\n",
       "      <td>A1</td>\n",
       "      <td>unknown</td>\n",
       "    </tr>\n",
       "    <tr>\n",
       "      <th>7</th>\n",
       "      <td>date unk.</td>\n",
       "      <td>Antonov An-2</td>\n",
       "      <td>CCCP-01216</td>\n",
       "      <td>Aeroflot</td>\n",
       "      <td>0</td>\n",
       "      <td>Chita region</td>\n",
       "      <td>Russia</td>\n",
       "      <td>A2</td>\n",
       "      <td>unknown</td>\n",
       "    </tr>\n",
       "    <tr>\n",
       "      <th>8</th>\n",
       "      <td>date unk.</td>\n",
       "      <td>Antonov An-24B</td>\n",
       "      <td>RA-47794</td>\n",
       "      <td>Russian AF</td>\n",
       "      <td>0</td>\n",
       "      <td>NaN</td>\n",
       "      <td>Russia</td>\n",
       "      <td>A1</td>\n",
       "      <td>unknown</td>\n",
       "    </tr>\n",
       "    <tr>\n",
       "      <th>9</th>\n",
       "      <td>date unk.</td>\n",
       "      <td>Antonov An-26</td>\n",
       "      <td>01 red</td>\n",
       "      <td>Soviet AF</td>\n",
       "      <td>0</td>\n",
       "      <td>Orenburg Air Base</td>\n",
       "      <td>Russia</td>\n",
       "      <td>O1</td>\n",
       "      <td>unknown</td>\n",
       "    </tr>\n",
       "  </tbody>\n",
       "</table>\n",
       "</div>"
      ],
      "text/plain": [
       "        date             type registration  \\\n",
       "0  date unk.   Antonov An-12B       T-1206   \n",
       "1  date unk.   Antonov An-12B       T-1204   \n",
       "2  date unk.   Antonov An-12B       T-1201   \n",
       "3  date unk.  Antonov An-12BK          NaN   \n",
       "4  date unk.  Antonov An-12BP   CCCP-11815   \n",
       "5  date unk.  Antonov An-12BP   CCCP-12172   \n",
       "6  date unk.     Antonov An-2    CCCP-N574   \n",
       "7  date unk.     Antonov An-2   CCCP-01216   \n",
       "8  date unk.   Antonov An-24B     RA-47794   \n",
       "9  date unk.    Antonov An-26       01 red   \n",
       "\n",
       "                               operator fatalities             location  \\\n",
       "0                         Indonesian AF        NaN                  NaN   \n",
       "1                         Indonesian AF        NaN                  NaN   \n",
       "2                         Indonesian AF        NaN                  NaN   \n",
       "3                             Soviet AF        NaN  Tiksi Airport (IKS)   \n",
       "4                             Soviet AF          0  Massawa Airport ...   \n",
       "5                             Soviet AF        NaN                  NaN   \n",
       "6  GUSMP, Directorate of Polar Aviation        NaN              unknown   \n",
       "7                              Aeroflot          0         Chita region   \n",
       "8                            Russian AF          0                  NaN   \n",
       "9                             Soviet AF          0    Orenburg Air Base   \n",
       "\n",
       "           country cat     year  \n",
       "0  Unknown country  U1  unknown  \n",
       "1  Unknown country  U1  unknown  \n",
       "2  Unknown country  U1  unknown  \n",
       "3           Russia  A1  unknown  \n",
       "4          Eritrea  A1  unknown  \n",
       "5           Russia  U1  unknown  \n",
       "6           Russia  A1  unknown  \n",
       "7           Russia  A2  unknown  \n",
       "8           Russia  A1  unknown  \n",
       "9           Russia  O1  unknown  "
      ]
     },
     "execution_count": 2,
     "metadata": {},
     "output_type": "execute_result"
    }
   ],
   "source": [
    "df_accidents = pd.read_csv('./data/aviation-accident-data-2023-05-16.csv')\n",
    "# read first 10 rows\n",
    "df_accidents.head(10)"
   ]
  },
  {
   "cell_type": "code",
   "execution_count": 3,
   "id": "99be268f",
   "metadata": {},
   "outputs": [
    {
     "data": {
      "text/plain": [
       "(23967, 9)"
      ]
     },
     "execution_count": 3,
     "metadata": {},
     "output_type": "execute_result"
    }
   ],
   "source": [
    "# shape of dataset\n",
    "df_accidents.shape"
   ]
  },
  {
   "cell_type": "code",
   "execution_count": 4,
   "id": "7266cc89",
   "metadata": {},
   "outputs": [
    {
     "name": "stdout",
     "output_type": "stream",
     "text": [
      "<class 'pandas.core.frame.DataFrame'>\n",
      "RangeIndex: 23967 entries, 0 to 23966\n",
      "Data columns (total 9 columns):\n",
      " #   Column        Non-Null Count  Dtype \n",
      "---  ------        --------------  ----- \n",
      " 0   date          23967 non-null  object\n",
      " 1   type          23967 non-null  object\n",
      " 2   registration  22419 non-null  object\n",
      " 3   operator      23963 non-null  object\n",
      " 4   fatalities    20029 non-null  object\n",
      " 5   location      23019 non-null  object\n",
      " 6   country       23967 non-null  object\n",
      " 7   cat           23967 non-null  object\n",
      " 8   year          23967 non-null  object\n",
      "dtypes: object(9)\n",
      "memory usage: 1.6+ MB\n"
     ]
    }
   ],
   "source": [
    "# overview of the dataset\n",
    "df_accidents.info()"
   ]
  },
  {
   "cell_type": "markdown",
   "id": "24a1db33",
   "metadata": {},
   "source": [
    "From the overview of the datasets we see all columns are of the object data type. We also see that some columns like Registration, Operator, Fatalities, and Location have missing values since the non-null count does not add up to the total number of rows **23,967**"
   ]
  },
  {
   "cell_type": "markdown",
   "id": "67b4156a",
   "metadata": {},
   "source": [
    "## **Data Preparation**\n",
    "\n",
    "In this section we clean the data by handling missing values, check for duplicates,and removing irrelevant columns.\n",
    "We also need to change the Fatalities column from an object data type to an integer data type."
   ]
  },
  {
   "cell_type": "code",
   "execution_count": 5,
   "id": "02f32111",
   "metadata": {},
   "outputs": [
    {
     "data": {
      "text/plain": [
       "False    23852\n",
       "True       115\n",
       "dtype: int64"
      ]
     },
     "execution_count": 5,
     "metadata": {},
     "output_type": "execute_result"
    }
   ],
   "source": [
    "# Checking for duplicates\n",
    "df_accidents.duplicated().value_counts()"
   ]
  },
  {
   "cell_type": "markdown",
   "id": "7c018086",
   "metadata": {},
   "source": [
    "    From the code above we see that the data set has 115 duplicated items that we need to remove."
   ]
  },
  {
   "cell_type": "code",
   "execution_count": 6,
   "id": "4432cbdb",
   "metadata": {},
   "outputs": [
    {
     "data": {
      "text/plain": [
       "False    23852\n",
       "dtype: int64"
      ]
     },
     "execution_count": 6,
     "metadata": {},
     "output_type": "execute_result"
    }
   ],
   "source": [
    "# remove duplicates and check if the duplicates were removed\n",
    "df_accidents = df_accidents.drop_duplicates()\n",
    "df_accidents.duplicated().value_counts()"
   ]
  },
  {
   "cell_type": "markdown",
   "id": "1d930d3d",
   "metadata": {},
   "source": [
    "    The total number of rows has now dropped from **23,967** to **23,852** due to the removal of duplicates.\n",
    "    We now deal with missing values"
   ]
  },
  {
   "cell_type": "code",
   "execution_count": 7,
   "id": "e66d5ba7",
   "metadata": {},
   "outputs": [
    {
     "name": "stdout",
     "output_type": "stream",
     "text": [
      "<class 'pandas.core.frame.DataFrame'>\n",
      "Int64Index: 23852 entries, 0 to 23966\n",
      "Data columns (total 9 columns):\n",
      " #   Column        Non-Null Count  Dtype \n",
      "---  ------        --------------  ----- \n",
      " 0   date          23852 non-null  object\n",
      " 1   type          23852 non-null  object\n",
      " 2   registration  22418 non-null  object\n",
      " 3   operator      23848 non-null  object\n",
      " 4   fatalities    20019 non-null  object\n",
      " 5   location      22920 non-null  object\n",
      " 6   country       23852 non-null  object\n",
      " 7   cat           23852 non-null  object\n",
      " 8   year          23852 non-null  object\n",
      "dtypes: object(9)\n",
      "memory usage: 1.8+ MB\n"
     ]
    }
   ],
   "source": [
    "df_accidents.info()"
   ]
  },
  {
   "cell_type": "markdown",
   "id": "efc7f973",
   "metadata": {},
   "source": [
    "    We first drop the registration column since it is not useful at this time."
   ]
  },
  {
   "cell_type": "code",
   "execution_count": 8,
   "id": "401e809e",
   "metadata": {},
   "outputs": [],
   "source": [
    "# Drop the registration column\n",
    "df_accidents = df_accidents.drop(\"registration\",axis=1)"
   ]
  },
  {
   "cell_type": "markdown",
   "id": "b49927db",
   "metadata": {},
   "source": [
    "    There are now a total of seven columns remaining."
   ]
  },
  {
   "cell_type": "code",
   "execution_count": 9,
   "id": "5a99201e",
   "metadata": {},
   "outputs": [
    {
     "name": "stdout",
     "output_type": "stream",
     "text": [
      "<class 'pandas.core.frame.DataFrame'>\n",
      "Int64Index: 23852 entries, 0 to 23966\n",
      "Data columns (total 8 columns):\n",
      " #   Column      Non-Null Count  Dtype \n",
      "---  ------      --------------  ----- \n",
      " 0   date        23852 non-null  object\n",
      " 1   type        23852 non-null  object\n",
      " 2   operator    23848 non-null  object\n",
      " 3   fatalities  20019 non-null  object\n",
      " 4   location    22920 non-null  object\n",
      " 5   country     23852 non-null  object\n",
      " 6   cat         23852 non-null  object\n",
      " 7   year        23852 non-null  object\n",
      "dtypes: object(8)\n",
      "memory usage: 1.6+ MB\n"
     ]
    }
   ],
   "source": [
    "df_accidents.info()"
   ]
  },
  {
   "cell_type": "markdown",
   "id": "2bb5f8d8",
   "metadata": {},
   "source": [
    "    Next we check the number of missing values in the remaining columns."
   ]
  },
  {
   "cell_type": "code",
   "execution_count": 10,
   "id": "2af9e545",
   "metadata": {},
   "outputs": [
    {
     "data": {
      "text/plain": [
       "date             0\n",
       "type             0\n",
       "operator         4\n",
       "fatalities    3833\n",
       "location       932\n",
       "country          0\n",
       "cat              0\n",
       "year             0\n",
       "dtype: int64"
      ]
     },
     "execution_count": 10,
     "metadata": {},
     "output_type": "execute_result"
    }
   ],
   "source": [
    "# Check for missing values\n",
    "df_accidents.isna().sum()"
   ]
  },
  {
   "cell_type": "markdown",
   "id": "bde4719f",
   "metadata": {},
   "source": [
    "    The columns with missing values are operator, fatalities and location.\n",
    "    We start with the operator column."
   ]
  },
  {
   "cell_type": "code",
   "execution_count": 11,
   "id": "fe3ed365",
   "metadata": {},
   "outputs": [
    {
     "data": {
      "text/plain": [
       "USAAF                                   2604\n",
       "USAF                                    1118\n",
       "RAF                                      920\n",
       "US Navy                                  745\n",
       "German AF                                411\n",
       "                                        ... \n",
       "Bohlke                                     1\n",
       "TÃ¡xi AÃ©reo Pinhal                        1\n",
       "Country Flyin                              1\n",
       "AZZA Transport, op.for Sudan Airways       1\n",
       "Gogal Air Service                          1\n",
       "Name: operator, Length: 6017, dtype: int64"
      ]
     },
     "execution_count": 11,
     "metadata": {},
     "output_type": "execute_result"
    }
   ],
   "source": [
    "# Filling in the values in the operator column\n",
    "# Since the operator column is an object type we check for the unique values to figure out how to fill in the missing values.\n",
    "df_accidents[\"operator\"].value_counts()"
   ]
  },
  {
   "cell_type": "markdown",
   "id": "0330a04d",
   "metadata": {},
   "source": [
    "    We will now fill in the missing values with mode of the column."
   ]
  },
  {
   "cell_type": "code",
   "execution_count": 15,
   "id": "a5601a7c",
   "metadata": {},
   "outputs": [
    {
     "data": {
      "text/plain": [
       "'USAAF'"
      ]
     },
     "execution_count": 15,
     "metadata": {},
     "output_type": "execute_result"
    }
   ],
   "source": [
    "operator_mode = df_accidents[\"operator\"].mode()[0]\n",
    "operator_mode"
   ]
  },
  {
   "cell_type": "code",
   "execution_count": 17,
   "id": "bbd5e4d8",
   "metadata": {},
   "outputs": [],
   "source": [
    "df_accidents[\"operator\"] = df_accidents[\"operator\"].fillna(operator_mode)"
   ]
  },
  {
   "cell_type": "markdown",
   "id": "6a00c39d",
   "metadata": {},
   "source": [
    "    We now check if the operator column has any missing values."
   ]
  },
  {
   "cell_type": "code",
   "execution_count": 18,
   "id": "9da051c4",
   "metadata": {},
   "outputs": [
    {
     "data": {
      "text/plain": [
       "date             0\n",
       "type             0\n",
       "operator         0\n",
       "fatalities    3833\n",
       "location       932\n",
       "country          0\n",
       "cat              0\n",
       "year             0\n",
       "dtype: int64"
      ]
     },
     "execution_count": 18,
     "metadata": {},
     "output_type": "execute_result"
    }
   ],
   "source": [
    "df_accidents.isna().sum()"
   ]
  },
  {
   "cell_type": "markdown",
   "id": "d6d4da02",
   "metadata": {},
   "source": [
    "     Next we tackle the location column"
   ]
  },
  {
   "cell_type": "code",
   "execution_count": 19,
   "id": "1f526105",
   "metadata": {},
   "outputs": [
    {
     "data": {
      "text/plain": [
       "unknown                272\n",
       "Havana-JosÃ© Mar...    105\n",
       "Miami Internatio...     71\n",
       "Beirut Internati...     48\n",
       "Unknown                 44\n",
       "                      ... \n",
       "between Youngsto...      1\n",
       "Fazenda Matary, MA       1\n",
       "Timisoara Airpor...      1\n",
       "near Tehachapi, CA       1\n",
       "Alken                    1\n",
       "Name: location, Length: 14608, dtype: int64"
      ]
     },
     "execution_count": 19,
     "metadata": {},
     "output_type": "execute_result"
    }
   ],
   "source": [
    "# We will still use the mode function for this cause the column is an object type column\n",
    "df_accidents[\"location\"].value_counts()"
   ]
  },
  {
   "cell_type": "code",
   "execution_count": 20,
   "id": "5105c617",
   "metadata": {},
   "outputs": [],
   "source": [
    "df_accidents[\"location\"] = df_accidents[\"location\"].fillna(df_accidents[\"location\"].mode()[0])"
   ]
  },
  {
   "cell_type": "code",
   "execution_count": 21,
   "id": "7b068eef",
   "metadata": {},
   "outputs": [
    {
     "data": {
      "text/plain": [
       "date             0\n",
       "type             0\n",
       "operator         0\n",
       "fatalities    3833\n",
       "location         0\n",
       "country          0\n",
       "cat              0\n",
       "year             0\n",
       "dtype: int64"
      ]
     },
     "execution_count": 21,
     "metadata": {},
     "output_type": "execute_result"
    }
   ],
   "source": [
    "df_accidents.isna().sum()"
   ]
  },
  {
   "cell_type": "markdown",
   "id": "d4ef2c63",
   "metadata": {},
   "source": [
    "    We now focus on the fatalities column changing it from object type to integer type and filling in the missing values."
   ]
  },
  {
   "cell_type": "code",
   "execution_count": 23,
   "id": "125aaf0b",
   "metadata": {},
   "outputs": [
    {
     "name": "stdout",
     "output_type": "stream",
     "text": [
      "[nan '0' '14' '1' '4' '2' '5' '6' '3' '7' '5+ 1' '8' '16' '12' '9' '15'\n",
      " '14+ 1' '10' '11' '35+ 9' '13' '2+ 2' '17' '19' '20' '0+ 1' '18' '13+ 1'\n",
      " '25' '29' '23' '5+ 7' '24' '36' '26' '22' '27' '12+ 1' '21' '7+ 6' '35'\n",
      " '32' '31' '2+ 1' '34' '28' '20+ 5' '0+ 2' '30' '41']\n"
     ]
    }
   ],
   "source": [
    "# Checking for unique values\n",
    "print(df_accidents[\"fatalities\"].unique()[:50])"
   ]
  },
  {
   "cell_type": "code",
   "execution_count": 24,
   "id": "a16bf612",
   "metadata": {},
   "outputs": [],
   "source": [
    "# Replacing nan with '0'\n",
    "df_accidents['fatalities'].fillna(0, inplace=True)"
   ]
  },
  {
   "cell_type": "code",
   "execution_count": 25,
   "id": "ea72ee97",
   "metadata": {},
   "outputs": [
    {
     "name": "stdout",
     "output_type": "stream",
     "text": [
      "[0 '0' '14' '1' '4' '2' '5' '6' '3' '7' '5+ 1' '8' '16' '12' '9' '15'\n",
      " '14+ 1' '10' '11' '35+ 9' '13' '2+ 2' '17' '19' '20' '0+ 1' '18' '13+ 1'\n",
      " '25' '29' '23' '5+ 7' '24' '36' '26' '22' '27' '12+ 1' '21' '7+ 6' '35'\n",
      " '32' '31' '2+ 1' '34' '28' '20+ 5' '0+ 2' '30' '41']\n"
     ]
    }
   ],
   "source": [
    "print(df_accidents[\"fatalities\"].unique()[:50])"
   ]
  },
  {
   "cell_type": "code",
   "execution_count": null,
   "id": "36b95431",
   "metadata": {},
   "outputs": [],
   "source": [
    "# Changing the column from object to integer and fill in the missing values\n",
    "df_accidents['fatalities'] = df_accidents['fatalities'].apply(lambda x: sum(map(int, x.replace(' ', '').split('+'))) if '+' in str(x) else int(x))\n"
   ]
  },
  {
   "cell_type": "code",
   "execution_count": 27,
   "id": "1ffa4b6c",
   "metadata": {},
   "outputs": [
    {
     "data": {
      "text/plain": [
       "date          0\n",
       "type          0\n",
       "operator      0\n",
       "fatalities    0\n",
       "location      0\n",
       "country       0\n",
       "cat           0\n",
       "year          0\n",
       "dtype: int64"
      ]
     },
     "execution_count": 27,
     "metadata": {},
     "output_type": "execute_result"
    }
   ],
   "source": [
    "df_accidents.isna().sum()"
   ]
  },
  {
   "cell_type": "code",
   "execution_count": 28,
   "id": "ebd20743",
   "metadata": {},
   "outputs": [
    {
     "name": "stdout",
     "output_type": "stream",
     "text": [
      "<class 'pandas.core.frame.DataFrame'>\n",
      "Int64Index: 23852 entries, 0 to 23966\n",
      "Data columns (total 8 columns):\n",
      " #   Column      Non-Null Count  Dtype \n",
      "---  ------      --------------  ----- \n",
      " 0   date        23852 non-null  object\n",
      " 1   type        23852 non-null  object\n",
      " 2   operator    23852 non-null  object\n",
      " 3   fatalities  23852 non-null  int64 \n",
      " 4   location    23852 non-null  object\n",
      " 5   country     23852 non-null  object\n",
      " 6   cat         23852 non-null  object\n",
      " 7   year        23852 non-null  object\n",
      "dtypes: int64(1), object(7)\n",
      "memory usage: 1.6+ MB\n"
     ]
    }
   ],
   "source": [
    "df_accidents.info()"
   ]
  },
  {
   "cell_type": "markdown",
   "id": "d1fe15d5",
   "metadata": {},
   "source": [
    "**To explain the code:**\n",
    "\n",
    "- df_accidents['fatalities'] = ...Assigns the result back into the fatalities column.\n",
    "- .apply(lambda x: ... )- Runs the anonymous function (lambda) once on each cell value x of the column.\n",
    "- if '+' in str(x)- Converts x to a string and checks if it contains the '+' character.\n",
    "- x.replace(' ', '')- Removes spaces from the string so splitting is clean.\n",
    "- .split('+') - Splits the string on '+' into parts (\"5+1\" to ['5', '1']).\n",
    "- map(int, ...)- Converts each split substring to an integer.\n",
    "- sum(...)- Adds the integers together.\n",
    "- else int(x)- If there is no '+' sign, the code converts the value directly to an integer ( \"14\" to 14)."
   ]
  }
 ],
 "metadata": {
  "kernelspec": {
   "display_name": "learn-env",
   "language": "python",
   "name": "python3"
  },
  "language_info": {
   "codemirror_mode": {
    "name": "ipython",
    "version": 3
   },
   "file_extension": ".py",
   "mimetype": "text/x-python",
   "name": "python",
   "nbconvert_exporter": "python",
   "pygments_lexer": "ipython3",
   "version": "3.8.5"
  }
 },
 "nbformat": 4,
 "nbformat_minor": 5
}
